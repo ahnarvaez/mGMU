{
 "cells": [
  {
   "cell_type": "markdown",
   "metadata": {},
   "source": [
    "# Models test"
   ]
  },
  {
   "cell_type": "markdown",
   "metadata": {},
   "source": [
    "## Loading Modules"
   ]
  },
  {
   "cell_type": "code",
   "execution_count": 1,
   "metadata": {},
   "outputs": [],
   "source": [
    "import numpy as np\n",
    "from sklearn.ensemble import RandomForestClassifier\n",
    "import modelos\n",
    "from sklearn.model_selection import StratifiedKFold    \n",
    "from tensorflow.keras.utils import to_categorical\n",
    "from sklearn import metrics\n",
    "import scipy.io\n",
    "import tensorflow as tf\n",
    "from tensorflow.keras.callbacks import ReduceLROnPlateau\n",
    "\n",
    "reduce = ReduceLROnPlateau(monitor='loss', factor=0.5, patience=50, min_lr=0.0001)\n",
    "callbacks = [reduce]"
   ]
  },
  {
   "cell_type": "markdown",
   "metadata": {},
   "source": [
    "## Loading dataset"
   ]
  },
  {
   "cell_type": "code",
   "execution_count": 2,
   "metadata": {},
   "outputs": [],
   "source": [
    "window_size_=40\n",
    "data = scipy.io.loadmat('UAH_timeSeries/UAH')\n",
    "data_target = data.get('data_target')\n",
    "clase  = data.get('clases')\n",
    "acc  = data.get('acc')\n",
    "gps  = data.get('gps')\n",
    "proc_vehicle  = data.get('proc_vehicle')\n",
    "proc_openstreetmap  = data.get('proc_openstreetmap')\n",
    "proc_lane  = data.get('proc_lane')\n",
    "num_clases = np.unique(clase).shape[0]\n",
    "\n",
    "axes=3"
   ]
  },
  {
   "cell_type": "markdown",
   "metadata": {},
   "source": [
    "## kfold cross validation"
   ]
  },
  {
   "cell_type": "code",
   "execution_count": 3,
   "metadata": {},
   "outputs": [],
   "source": [
    "## 10 folds\n",
    "folds_=10\n",
    "\n",
    "## indexes for every fold\n",
    "cv = StratifiedKFold(n_splits=folds_, shuffle=True)\n",
    "train_index_= []\n",
    "test_index_=[]\n",
    "for train_index, test_index in cv.split(acc,clase):  \n",
    "    train_index_.append(train_index)\n",
    "    test_index_.append(test_index) "
   ]
  },
  {
   "cell_type": "markdown",
   "metadata": {},
   "source": [
    "## Classifier\n",
    "\n",
    "### keras model build function\n",
    "\n",
    "crearModelo (from modelos.py): This function make a keras model with a feature extraction, feature union, and classification stages.\n",
    "             The layers to be use in each stage are define by the user. \n",
    "\t\t\t \n",
    "**num_clases**   :  The number of classes in the dataset.  \n",
    "**window_size**  :  Number of samples in each channel.  \n",
    "**ejes**         :  Number of Channels.  \n",
    "**filtros**      :  The number of filters used in each convolutional layer (inception layer included).  \n",
    "**cant_entradas**:  Number of inputs (modalities) in the dataset-  \n",
    "**extraccion:**  :  Feature extraction layer type to be used.  \n",
    "&nbsp;&nbsp;&nbsp;Options:  \n",
    "&nbsp;&nbsp;&nbsp;-  \"1I\"    : 1 inception layer.  \n",
    "&nbsp;&nbsp;&nbsp;-  \"1Conv\" : 1 convolutional layer.  \n",
    "&nbsp;&nbsp;&nbsp;-  \"21\"    : 2 inception layers.  \n",
    "&nbsp;&nbsp;&nbsp;-  \"2Conv\" : 2 convolutional layer.  \n",
    "&nbsp;&nbsp;&nbsp;-  \"2Ires\" : 2 inception layers with residual connection.  \n",
    "**tipo_union**   :  Feature fusion layer type to be used.  \n",
    "&nbsp;&nbsp;&nbsp;Options:  \n",
    "&nbsp;&nbsp;&nbsp;-  mGMU   : Minimal gated multimodal unit layer.  \n",
    "&nbsp;&nbsp;&nbsp;-  GMU    : Gated multimodal unit layer.  \n",
    "&nbsp;&nbsp;&nbsp;-  LSTM   : Long short-term memory layer.  \n",
    "&nbsp;&nbsp;&nbsp;-  Concat : Concatenation layer.  \n",
    "**kernel_size_** :  Size of the kernel(filter) in convolutional layers.  "
   ]
  },
  {
   "cell_type": "code",
   "execution_count": 4,
   "metadata": {
    "scrolled": true
   },
   "outputs": [
    {
     "name": "stdout",
     "output_type": "stream",
     "text": [
      "Out of memory\n",
      "4/4 [==============================] - 1s 32ms/step\n",
      "4/4 [==============================] - 1s 18ms/step\n",
      "4/4 [==============================] - 1s 35ms/step\n",
      "4/4 [==============================] - 1s 18ms/step\n",
      "4/4 [==============================] - 1s 20ms/step\n",
      "4/4 [==============================] - 1s 14ms/step\n",
      "4/4 [==============================] - 1s 20ms/step\n",
      "4/4 [==============================] - 1s 18ms/step\n",
      "4/4 [==============================] - 1s 16ms/step\n",
      "4/4 [==============================] - 1s 20ms/step\n"
     ]
    }
   ],
   "source": [
    "recall = []\n",
    "precision =  []\n",
    "facc = []\n",
    "f1score = []\n",
    "auc = []\n",
    "\n",
    "for particion in range (10):                        \n",
    "    train_index = train_index_[particion]\n",
    "    test_index = test_index_[particion]\n",
    "    y_train, y_test = data_target[train_index], data_target[test_index]\n",
    "    \n",
    "    #Getting the channels to be used for all inputs\n",
    "    acc1_train = acc[train_index][:,:,[1,2,3]]\n",
    "    acc2_train = acc[train_index][:,:,[4,5,6]]\n",
    "    acc3_train = acc[train_index][:,:,[7,8,9]]\n",
    "    acc1_test, acc2_test, acc3_test = acc[test_index][:,:,[1,2,3]], acc[test_index][:,:,[4,5,6]], acc[test_index][:,:,[7,8,9]]\n",
    "    gps1_train, gps2_train = gps[train_index][:,:,[0,6,7]], gps[train_index][:,:,[1,2,3]]\n",
    "    gps1_test, gps2_test = gps[test_index][:,:,[0,6,7]], gps[test_index][:,:,[1,2,3]]        \n",
    "    proc_lane_train = proc_lane[train_index][:,:,[0,1,2]]\n",
    "    proc_lane_test  = proc_lane[test_index][:,:,[0,1,2]]        \n",
    "    proc_vehicle_train = proc_vehicle[train_index][:,:,[0,1,2]]\n",
    "    proc_vehicle_test  = proc_vehicle[test_index][:,:,[0,1,2]]        \n",
    "    proc_openstreetmap_train = proc_openstreetmap[train_index][:,:,[0,3,4]]\n",
    "    proc_openstreetmap_test = proc_openstreetmap[test_index][:,:,[0,3,4]]  \n",
    "    \n",
    "    ##delete model if exist\n",
    "    try:\n",
    "        del model           \n",
    "    except(NameError):\n",
    "        print(\"Out of memory\")\n",
    "    #\n",
    "    #New Model\n",
    "    #  \n",
    "    model = modelos.crearModelo(num_clases=5, window_size=window_size_, ejes=axes, filtros=32, cant_entradas=8, extraccion=\"2Ires\", tipo_union=\"mGMU\")            \n",
    "    model.compile(loss='categorical_crossentropy', optimizer='adam', metrics=['accuracy'])             \n",
    "    \n",
    "    #train\n",
    "    model.fit([acc1_train,acc2_train,acc3_train,gps1_train,gps2_train,proc_lane_train,proc_vehicle_train,proc_openstreetmap_train], y_train, epochs=250, verbose=False, callbacks=callbacks)\n",
    "            \n",
    "    #test\n",
    "    pred = model.predict([acc1_test,acc2_test,acc3_test,gps1_test,gps2_test,proc_lane_test,proc_vehicle_test,proc_openstreetmap_test])    \n",
    "    pred = np.argmax(pred, axis=1)            \n",
    "    pred = to_categorical(pred, num_clases)    \n",
    "    \n",
    "    #Metrics\n",
    "    recall_ = dict()\n",
    "    precision_ =  dict()\n",
    "    acc_ = dict()\n",
    "    f1score_ = dict()\n",
    "    fpr=dict()\n",
    "    tpr=dict()\n",
    "    roc_auc=dict()\n",
    "    for i in range(num_clases):        \n",
    "        recall_[i]    = metrics.recall_score(y_test[:,i], pred[:,i])\n",
    "        precision_[i] = metrics.average_precision_score(y_test[:,i], pred[:,i])\n",
    "        acc_[i]       = metrics.accuracy_score(y_test[:,i], pred[:,i])\n",
    "        f1score_[i]   = metrics.f1_score(y_test[:,i], pred[:,i])\n",
    "        fpr[i], tpr[i], _ = metrics.roc_curve(y_test[:,i], pred[:,i])\n",
    "        roc_auc[i]=metrics.auc(fpr[i], tpr[i])\n",
    "    auc.append(roc_auc)\n",
    "    recall.append(recall_)\n",
    "    precision.append(precision_)\n",
    "    facc.append(acc_)\n",
    "    f1score.append(f1score_)\n",
    "    "
   ]
  },
  {
   "cell_type": "markdown",
   "metadata": {},
   "source": [
    "## Metrics"
   ]
  },
  {
   "cell_type": "code",
   "execution_count": 5,
   "metadata": {},
   "outputs": [],
   "source": [
    "f1score_promedio = np.zeros((num_clases,1))\n",
    "recall_promedio = np.zeros((num_clases,1))\n",
    "acc_promedio = np.zeros((num_clases,1))\n",
    "precision_promedio = np.zeros((num_clases,1))\n",
    "auc_promedio = np.zeros((num_clases,1))\n",
    "\n",
    "for i in range(10):\n",
    "    for j in range(num_clases):\n",
    "        f1score_promedio[j] += f1score[i][j]\n",
    "        recall_promedio[j] += recall[i][j]\n",
    "        acc_promedio[j] += facc[i][j]\n",
    "        precision_promedio[j] += precision[i][j]\n",
    "        auc_promedio[j] += auc[i][j]\n",
    "\n",
    "precision_promedio = precision_promedio/10\n",
    "recall_promedio = recall_promedio/10\n",
    "acc_promedio = acc_promedio/10\n",
    "f1score_promedio = f1score_promedio/10\n",
    "auc_promedio = auc_promedio/10"
   ]
  },
  {
   "cell_type": "code",
   "execution_count": 6,
   "metadata": {},
   "outputs": [
    {
     "name": "stdout",
     "output_type": "stream",
     "text": [
      "Precision: [[0.74773786]\n",
      " [0.88413689]\n",
      " [0.91154313]\n",
      " [0.93230539]\n",
      " [0.64654639]]\n",
      "Recall: [[0.84673203]\n",
      " [0.93187831]\n",
      " [0.94368421]\n",
      " [0.94316239]\n",
      " [0.79921053]]\n",
      "Accuracy: [[0.95232465]\n",
      " [0.96493726]\n",
      " [0.98203024]\n",
      " [0.98022844]\n",
      " [0.91903153]]\n",
      "F1-Score: [[0.84690567]\n",
      " [0.93031902]\n",
      " [0.94808606]\n",
      " [0.95731986]\n",
      " [0.77887662]]\n",
      "AUC: [[0.90949619]\n",
      " [0.95394116]\n",
      " [0.96695639]\n",
      " [0.96746355]\n",
      " [0.87219843]]\n"
     ]
    }
   ],
   "source": [
    "print(\"Precision: \"+ str(precision_promedio))\n",
    "print(\"Recall: \"+ str(recall_promedio))\n",
    "print(\"Accuracy: \"+ str(acc_promedio))\n",
    "print(\"F1-Score: \"+ str(f1score_promedio))\n",
    "print(\"AUC: \"+ str(auc_promedio))"
   ]
  },
  {
   "cell_type": "code",
   "execution_count": null,
   "metadata": {},
   "outputs": [],
   "source": []
  }
 ],
 "metadata": {
  "kernelspec": {
   "display_name": "Python 3 (ipykernel)",
   "language": "python",
   "name": "python3"
  },
  "language_info": {
   "codemirror_mode": {
    "name": "ipython",
    "version": 3
   },
   "file_extension": ".py",
   "mimetype": "text/x-python",
   "name": "python",
   "nbconvert_exporter": "python",
   "pygments_lexer": "ipython3",
   "version": "3.7.13"
  }
 },
 "nbformat": 4,
 "nbformat_minor": 2
}
