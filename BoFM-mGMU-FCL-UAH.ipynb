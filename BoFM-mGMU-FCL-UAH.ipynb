{
 "cells": [
  {
   "cell_type": "markdown",
   "metadata": {},
   "source": [
    "## Example of BOFM as feature extractor stage."
   ]
  },
  {
   "cell_type": "code",
   "execution_count": 1,
   "metadata": {},
   "outputs": [],
   "source": [
    "import numpy as np\n",
    "from sklearn.ensemble import RandomForestClassifier\n",
    "import modelos\n",
    "from sklearn.model_selection import StratifiedKFold    \n",
    "from tensorflow.keras.utils import to_categorical\n",
    "from sklearn import metrics\n",
    "from BoFM.BoFM_extraccion import BoF\n",
    "import scipy.io\n",
    "import tensorflow as tf\n",
    "from tensorflow.keras.models import Model\n",
    "from tensorflow.keras.layers import AveragePooling1D,Conv2D, Layer, Dense, Conv1D, Input, Concatenate, BatchNormalization, Activation, GlobalAveragePooling1D, Flatten, MaxPool1D, LSTM\n",
    "from tensorflow.keras import backend as K\n",
    "from tensorflow.keras.callbacks import ModelCheckpoint, ReduceLROnPlateau\n",
    "from Gates.Gates import GMU, mGMU\n",
    "\n",
    "reduce = ReduceLROnPlateau(monitor='loss', factor=0.5, patience=50, min_lr=0.0001)\n",
    "\"\"\"Save the model after every epoch. save_best_only saves only the best\"\"\"\n",
    "#best_model = ModelCheckpoint(filepath= 'inception_gate.hdf5', monitor='loss', save_best_only=True)\n",
    "#callbacks = [reduce, best_model]\n",
    "callbacks = [reduce]"
   ]
  },
  {
   "cell_type": "markdown",
   "metadata": {},
   "source": [
    "## Loading dataset"
   ]
  },
  {
   "cell_type": "code",
   "execution_count": 2,
   "metadata": {},
   "outputs": [],
   "source": [
    "window_size_=40\n",
    "data = scipy.io.loadmat('UAH_timeSeries/UAH')\n",
    "data_target = data.get('data_target')\n",
    "clase  = data.get('clases')\n",
    "acc  = data.get('acc')\n",
    "gps  = data.get('gps')\n",
    "proc_vehicle  = data.get('proc_vehicle')\n",
    "proc_openstreetmap  = data.get('proc_openstreetmap')\n",
    "proc_lane  = data.get('proc_lane')\n",
    "num_clases = np.unique(clase).shape[0]\n",
    "\n",
    "axes=3"
   ]
  },
  {
   "cell_type": "markdown",
   "metadata": {},
   "source": [
    "## kfold cross validation"
   ]
  },
  {
   "cell_type": "code",
   "execution_count": 3,
   "metadata": {},
   "outputs": [],
   "source": [
    "## 10 folds\n",
    "folds_=10\n",
    "\n",
    "## indexes for every fold\n",
    "cv = StratifiedKFold(n_splits=folds_, shuffle=True)\n",
    "train_index_= []\n",
    "test_index_=[]\n",
    "for train_index, test_index in cv.split(acc,clase):  \n",
    "    train_index_.append(train_index)\n",
    "    test_index_.append(test_index) "
   ]
  },
  {
   "cell_type": "markdown",
   "metadata": {},
   "source": [
    "## Classifier"
   ]
  },
  {
   "cell_type": "code",
   "execution_count": 4,
   "metadata": {
    "scrolled": true
   },
   "outputs": [
    {
     "name": "stdout",
     "output_type": "stream",
     "text": [
      "Out of memory\n",
      "4/4 [==============================] - 0s 4ms/step\n",
      "4/4 [==============================] - 0s 5ms/step\n",
      "4/4 [==============================] - 0s 4ms/step\n",
      "4/4 [==============================] - 0s 4ms/step\n",
      "4/4 [==============================] - 0s 4ms/step\n",
      "4/4 [==============================] - 0s 4ms/step\n",
      "4/4 [==============================] - 0s 4ms/step\n",
      "4/4 [==============================] - 0s 4ms/step\n",
      "4/4 [==============================] - 0s 4ms/step\n",
      "4/4 [==============================] - 0s 4ms/step\n"
     ]
    }
   ],
   "source": [
    "recall = []\n",
    "precision =  []\n",
    "facc = []\n",
    "f1score = []\n",
    "auc = []\n",
    "\n",
    "for particion in range (10):                        \n",
    "    train_index = train_index_[particion]\n",
    "    test_index = test_index_[particion]\n",
    "    y_train, y_test = data_target[train_index], data_target[test_index]\n",
    "    \n",
    "    #Getting the channels to be used for all inputs\n",
    "    acc1_train = acc[train_index][:,:,[1,2,3]]\n",
    "    acc2_train = acc[train_index][:,:,[4,5,6]]\n",
    "    acc3_train = acc[train_index][:,:,[7,8,9]]\n",
    "    acc1_test, acc2_test, acc3_test = acc[test_index][:,:,[1,2,3]], acc[test_index][:,:,[4,5,6]], acc[test_index][:,:,[7,8,9]]\n",
    "    gps1_train, gps2_train = gps[train_index][:,:,[0,6,7]], gps[train_index][:,:,[1,2,3]]\n",
    "    gps1_test, gps2_test = gps[test_index][:,:,[0,6,7]], gps[test_index][:,:,[1,2,3]]        \n",
    "    proc_lane_train = proc_lane[train_index][:,:,[0,1,2]]\n",
    "    proc_lane_test  = proc_lane[test_index][:,:,[0,1,2]]        \n",
    "    proc_vehicle_train = proc_vehicle[train_index][:,:,[0,1,2]]\n",
    "    proc_vehicle_test  = proc_vehicle[test_index][:,:,[0,1,2]]        \n",
    "    proc_openstreetmap_train = proc_openstreetmap[train_index][:,:,[0,3,4]]\n",
    "    proc_openstreetmap_test = proc_openstreetmap[test_index][:,:,[0,3,4]]  \n",
    "    \n",
    "    #Concatenate data.\n",
    "    data = np.concatenate((\n",
    "        acc1_train,\n",
    "        acc2_train,\n",
    "        acc3_train,\n",
    "        gps1_train, \n",
    "        gps2_train,\n",
    "        proc_lane_train,\n",
    "        proc_vehicle_train,\n",
    "        proc_openstreetmap_train    \n",
    "    ), axis = 2)\n",
    "    \n",
    "    data_test = np.concatenate((\n",
    "        acc1_test,\n",
    "        acc2_test,\n",
    "        acc3_test,\n",
    "        gps1_test, \n",
    "        gps2_test,\n",
    "        proc_lane_test,\n",
    "        proc_vehicle_test,\n",
    "        proc_openstreetmap_test    \n",
    "    ), axis = 2)\n",
    "    \n",
    "    ##delete model\n",
    "    try:\n",
    "        del model           \n",
    "    except(NameError):\n",
    "        print(\"Out of memory\")\n",
    "    #\n",
    "    #New Model\n",
    "    #\n",
    "    #InputSize\n",
    "    input_0 = Input (shape=(55, 3))\n",
    "    input_1 = Input (shape=(55, 3))\n",
    "    input_2 = Input (shape=(55, 3))\n",
    "    input_3 = Input (shape=(55, 3))\n",
    "    input_4 = Input (shape=(55, 3))\n",
    "    input_5 = Input (shape=(55, 3))\n",
    "    input_6 = Input (shape=(55, 3))\n",
    "    input_7 = Input (shape=(55, 3))    \n",
    "    \n",
    "    union, z =  mGMU(8, name=\"union\")([input_0, input_1, input_2, input_3, input_4, input_5, input_6, input_7])\n",
    "    #union_output = GlobalAveragePooling1D()(union)     \n",
    "    #output  = Dense(num_clases, activation='softmax')(union_output)\n",
    "    output_  = Flatten()(union)\n",
    "    output   = Dense(num_clases, activation='softmax')(output_)\n",
    "    model    = Model([input_0, input_1, input_2, input_3, input_4, input_5, input_6, input_7], output)\n",
    "    \n",
    "    #\n",
    "    #Trainning BoFM. just first stage (Histograms)    \n",
    "    #\n",
    "    bof=BoF(z=.75, njobs=8, tipo=2)\n",
    "    bof.fit(data, np.argmax(y_train, axis=1))    \n",
    "    \n",
    "    extraccion = bof.getHtrain()            \n",
    "    \n",
    "    model.compile(loss='categorical_crossentropy', optimizer='adam', metrics=['accuracy'])                       \n",
    "    #logging.info(model.summary())    \n",
    "    model.fit([extraccion[:,:,:3], extraccion[:,:,3:6], extraccion[:,:,6:9], extraccion[:,:,9:12], extraccion[:,:,12:15], extraccion[:,:,15:18], extraccion[:,:,18:21], extraccion[:,:,21:24]], y_train, epochs=250, verbose=False, callbacks=callbacks)     \n",
    "    test_input = bof.transform(data_test)           \n",
    "    pred=model.predict([test_input[:,:,:3], test_input[:,:,3:6], test_input[:,:,6:9], test_input[:,:,9:12], test_input[:,:,12:15], test_input[:,:,15:18], test_input[:,:,18:21], test_input[:,:,21:24]])    \n",
    "    pred=np.argmax(pred, axis=1)            \n",
    "    pred= to_categorical(pred, num_clases)    \n",
    "    \n",
    "    #Metrics\n",
    "    recall_ = dict()\n",
    "    precision_ =  dict()\n",
    "    acc_ = dict()\n",
    "    f1score_ = dict()\n",
    "    fpr=dict()\n",
    "    tpr=dict()\n",
    "    roc_auc=dict()\n",
    "    for i in range(num_clases):        \n",
    "        recall_[i]    = metrics.recall_score(y_test[:,i], pred[:,i])\n",
    "        precision_[i] = metrics.average_precision_score(y_test[:,i], pred[:,i])\n",
    "        acc_[i]       = metrics.accuracy_score(y_test[:,i], pred[:,i])\n",
    "        f1score_[i]   = metrics.f1_score(y_test[:,i], pred[:,i])\n",
    "        fpr[i], tpr[i], _ = metrics.roc_curve(y_test[:,i], pred[:,i])\n",
    "        roc_auc[i]=metrics.auc(fpr[i], tpr[i])\n",
    "    auc.append(roc_auc)\n",
    "    recall.append(recall_)\n",
    "    precision.append(precision_)\n",
    "    facc.append(acc_)\n",
    "    f1score.append(f1score_)\n",
    "    "
   ]
  },
  {
   "cell_type": "markdown",
   "metadata": {},
   "source": [
    "## Metrics"
   ]
  },
  {
   "cell_type": "code",
   "execution_count": 5,
   "metadata": {},
   "outputs": [],
   "source": [
    "f1score_promedio = np.zeros((num_clases,1))\n",
    "recall_promedio = np.zeros((num_clases,1))\n",
    "acc_promedio = np.zeros((num_clases,1))\n",
    "precision_promedio = np.zeros((num_clases,1))\n",
    "auc_promedio = np.zeros((num_clases,1))\n",
    "\n",
    "for i in range(10):\n",
    "    for j in range(num_clases):\n",
    "        f1score_promedio[j] += f1score[i][j]\n",
    "        recall_promedio[j] += recall[i][j]\n",
    "        acc_promedio[j] += facc[i][j]\n",
    "        precision_promedio[j] += precision[i][j]\n",
    "        auc_promedio[j] += auc[i][j]\n",
    "\n",
    "precision_promedio = precision_promedio/10\n",
    "recall_promedio = recall_promedio/10\n",
    "acc_promedio = acc_promedio/10\n",
    "f1score_promedio = f1score_promedio/10\n",
    "auc_promedio = auc_promedio/10"
   ]
  },
  {
   "cell_type": "code",
   "execution_count": 6,
   "metadata": {},
   "outputs": [
    {
     "name": "stdout",
     "output_type": "stream",
     "text": [
      "Precision: [[0.61419641]\n",
      " [0.75114609]\n",
      " [0.72760748]\n",
      " [0.78867754]\n",
      " [0.4594801 ]]\n",
      "Recall: [[0.74934641]\n",
      " [0.84880952]\n",
      " [0.81578947]\n",
      " [0.87478632]\n",
      " [0.62315789]]\n",
      "Accuracy: [[0.92350386]\n",
      " [0.92083333]\n",
      " [0.94155405]\n",
      " [0.93709781]\n",
      " [0.86328829]]\n",
      "F1-Score: [[0.7501691 ]\n",
      " [0.84296558]\n",
      " [0.83104073]\n",
      " [0.86849314]\n",
      " [0.62145884]]\n",
      "AUC: [[0.85278462]\n",
      " [0.89680149]\n",
      " [0.89207922]\n",
      " [0.91556543]\n",
      " [0.76940862]]\n"
     ]
    }
   ],
   "source": [
    "print(\"Precision: \"+ str(precision_promedio))\n",
    "print(\"Recall: \"+ str(recall_promedio))\n",
    "print(\"Accuracy: \"+ str(acc_promedio))\n",
    "print(\"F1-Score: \"+ str(f1score_promedio))\n",
    "print(\"AUC: \"+ str(auc_promedio))"
   ]
  },
  {
   "cell_type": "code",
   "execution_count": null,
   "metadata": {},
   "outputs": [],
   "source": []
  },
  {
   "cell_type": "code",
   "execution_count": null,
   "metadata": {},
   "outputs": [],
   "source": []
  }
 ],
 "metadata": {
  "kernelspec": {
   "display_name": "Python 3 (ipykernel)",
   "language": "python",
   "name": "python3"
  },
  "language_info": {
   "codemirror_mode": {
    "name": "ipython",
    "version": 3
   },
   "file_extension": ".py",
   "mimetype": "text/x-python",
   "name": "python",
   "nbconvert_exporter": "python",
   "pygments_lexer": "ipython3",
   "version": "3.7.13"
  }
 },
 "nbformat": 4,
 "nbformat_minor": 2
}
